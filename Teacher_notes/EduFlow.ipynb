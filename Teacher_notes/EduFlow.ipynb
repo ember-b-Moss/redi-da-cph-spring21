{
 "cells": [
  {
   "cell_type": "markdown",
   "metadata": {},
   "source": [
    "# EduFlow\n",
    "- students can submit their work by either submitting multiple files or a link to a folder in their GitHub repository\n",
    "- once they have submitted their work, they are able to review the work of one of their peers, randomly assigned\n",
    "- the feedback is anonymous. So the students can't see whom they review and or who reviewed them.\n",
    "- the submission is from 17:30 of the day the class the homework is made available until 17:30 the following week\n",
    "- peer review is open at the same times for the week after (so students have one week to complete their homework and one week to review the homework of their peer\n",
    "- I put in the settings now that they can only review something if they have submitted their homework, let's discuss whether that makes sense.\n",
    "- They can however see feedback to their homework, even if they have not submitted feedback\n",
    "\n",
    "- Access Link for students: https://app.eduflow.com/join/Y5VP8E\n",
    "- I've sent you an email with an invite to all the teachers\n",
    "\n",
    "-Kristin\n",
    "\n"
   ]
  },
  {
   "cell_type": "code",
   "execution_count": null,
   "metadata": {},
   "outputs": [],
   "source": []
  }
 ],
 "metadata": {
  "kernelspec": {
   "display_name": "Python 3",
   "language": "python",
   "name": "python3"
  },
  "language_info": {
   "codemirror_mode": {
    "name": "ipython",
    "version": 3
   },
   "file_extension": ".py",
   "mimetype": "text/x-python",
   "name": "python",
   "nbconvert_exporter": "python",
   "pygments_lexer": "ipython3",
   "version": "3.7.6"
  }
 },
 "nbformat": 4,
 "nbformat_minor": 4
}
