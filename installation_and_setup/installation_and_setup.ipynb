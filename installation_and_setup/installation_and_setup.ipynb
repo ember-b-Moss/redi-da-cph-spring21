{
 "cells": [
  {
   "cell_type": "markdown",
   "metadata": {
    "slideshow": {
     "slide_type": "subslide"
    }
   },
   "source": [
    "## 1- Git and a Github Account\n",
    "\n",
    "You will need to install Git to your local machine. Git installers can be found here: https://git-scm.com/downloads\n",
    "\n",
    "  * **OBS** If you are on Windows: Do not use your default Windows terminal. Use the Git Bash shell which comes with the installation.\n",
    "  * Please note: The installation is not successful before you can use Git in your console by writing `git`!\n",
    "  * Create a user on GitHub if you do not already have one.\n",
    "\n",
    "### Git on MacOS\n",
    "\n",
    "In case you do not have Git installed already, navigate to the following page https://gist.github.com/derhuerst/1b15ff4652a867391f03#file-mac-md and follow the instructions for installing Git on MacOS via `homebrew`.\n",
    "\n",
    "In case you have `homebrew` already installed you can execute Step 2 of that guide directly.\n",
    "\n",
    "### Git with GitBash on Windows\n",
    "\n",
    "\n",
    "#### 1  - Install GitBash.\n",
    "\n",
    "Go to https://gitforwindows.org and download Git for Windows. After download completes, run the installer and choose the following settings\n",
    "\n",
    "![](images/1.png)\n",
    "\n",
    "![](images/2.png)\n",
    "\n",
    "![](images/3.png)\n",
    "\n",
    "![](images/4.png)\n",
    "\n",
    "\n",
    "\n",
    "\n",
    "#### Very important to choose the Nano as in the image below\n",
    "\n",
    "![](images/5.png)\n",
    "\n",
    "![](images/6.png)\n",
    "\n",
    "![](images/7.png)\n",
    "\n",
    "\n",
    "\n",
    "#### Very important to choose the setting shown below\n",
    "\n",
    "<img src=\"images/8.png\" width=\"500px\"/>\n",
    "\n",
    "The rest is just default settings."
   ]
  },
  {
   "cell_type": "markdown",
   "metadata": {
    "slideshow": {
     "slide_type": "subslide"
    }
   },
   "source": [
    "## 2- A Python Installation\n",
    "\n",
    "Likely, the easiest way of installing and configuring Python is via the distribution _Anaconda_.\n",
    "\n",
    "Install Python corresponding to your OS (operating system) from https://www.anaconda.com/download.\n",
    "In case you need help read the installation instructions here: https://docs.anaconda.com/anaconda/install/\n",
    "\n",
    "**OBS:** Make sure you have at least Python version 3.4 installed. You can check your version by typing the following into your terminal/command prompt \n",
    "```bash \n",
    "   python --version\n",
    "    ```\n"
   ]
  },
  {
   "cell_type": "markdown",
   "metadata": {
    "slideshow": {
     "slide_type": "subslide"
    }
   },
   "source": [
    "### Installing Anaconda on Windows.\n",
    "\n",
    "\n",
    "When starting the installation choose the settings as shown below.\n",
    "\n",
    "<img src=\"images/Ana_1.png\" width=\"60%\"/>\n",
    "    \n",
    "\n",
    "#### Adding the Anaconda Programs to your `PATH`\n",
    "\n",
    "In case you have to add the newly installed Anaconda programs to your Windows `PATH` variable do the following:\n",
    "\n",
    "  * Open the `command prompt` as in the image below.\n",
    "  <img src=\"images/komando.png\" width=\"30%\"/>\n",
    "  * In the `command prompt` window type the following:\n",
    "\n",
    "    - **OBS**: Replace the `<your username>` in the pathes below with your username when typing in the command.\n",
    "    - ```bash \n",
    "    $ SETX PATH \"%PATH%;C:/Users/<your username>/Anaconda3/Scripts;C:/Users/<your username>/Anaconda3\"\n",
    "    ```"
   ]
  },
  {
   "cell_type": "markdown",
   "metadata": {
    "slideshow": {
     "slide_type": "subslide"
    }
   },
   "source": [
    "### Testing your Python Installation\n",
    "\n",
    "On the terminal/GitBash try to check the version of Python, which should be something similar to:\n",
    "\n",
    "```bash\n",
    "$ python --version\n",
    "Python 3.7.4 :: Anaconda, Inc.\n",
    "```"
   ]
  }
 ],
 "metadata": {
  "celltoolbar": "Slideshow",
  "kernelspec": {
   "display_name": "Python 3",
   "language": "python",
   "name": "python3"
  },
  "language_info": {
   "codemirror_mode": {
    "name": "ipython",
    "version": 3
   },
   "file_extension": ".py",
   "mimetype": "text/x-python",
   "name": "python",
   "nbconvert_exporter": "python",
   "pygments_lexer": "ipython3",
   "version": "3.7.6"
  }
 },
 "nbformat": 4,
 "nbformat_minor": 2
}
