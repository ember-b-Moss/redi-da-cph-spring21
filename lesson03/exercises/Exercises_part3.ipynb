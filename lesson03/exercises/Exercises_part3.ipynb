{
 "cells": [
  {
   "cell_type": "markdown",
   "id": "indirect-benchmark",
   "metadata": {},
   "source": [
    " ## CLASS-EXERCISE "
   ]
  },
  {
   "cell_type": "markdown",
   "id": "joined-preference",
   "metadata": {},
   "source": [
    "1. Create a 2-d and 3-d numpy integer array "
   ]
  },
  {
   "cell_type": "code",
   "execution_count": null,
   "id": "gentle-square",
   "metadata": {},
   "outputs": [],
   "source": []
  },
  {
   "cell_type": "markdown",
   "id": "going-chuck",
   "metadata": {},
   "source": [
    "2. Create a 2X2 integer array and show it's dimensions"
   ]
  },
  {
   "cell_type": "code",
   "execution_count": null,
   "id": "diverse-pizza",
   "metadata": {},
   "outputs": [],
   "source": []
  },
  {
   "cell_type": "markdown",
   "id": "a323f080",
   "metadata": {},
   "source": [
    "3. Create a numpy array and  print the sum of third and fourth elements from the array "
   ]
  },
  {
   "cell_type": "code",
   "execution_count": null,
   "id": "successful-producer",
   "metadata": {},
   "outputs": [],
   "source": []
  },
  {
   "cell_type": "markdown",
   "id": "61a8d2ae",
   "metadata": {},
   "source": [
    "4. Slice the below array to get the the second item to the excluding fifth item\n",
    "\n",
    "arr = np.array([10, 15, 20, 25, 30, 35, 40])"
   ]
  },
  {
   "cell_type": "code",
   "execution_count": null,
   "id": "parliamentary-weekly",
   "metadata": {},
   "outputs": [],
   "source": []
  },
  {
   "cell_type": "markdown",
   "id": "aeac6822",
   "metadata": {},
   "source": [
    "5. Try example 4. using STEP method"
   ]
  },
  {
   "cell_type": "code",
   "execution_count": null,
   "id": "5fb60258",
   "metadata": {},
   "outputs": [],
   "source": []
  },
  {
   "cell_type": "markdown",
   "id": "2f484fa8",
   "metadata": {},
   "source": [
    "6. Create a integer array and change data type from integer to boolean\n",
    "\n"
   ]
  },
  {
   "cell_type": "code",
   "execution_count": null,
   "id": "a3be02f7",
   "metadata": {},
   "outputs": [],
   "source": []
  },
  {
   "cell_type": "markdown",
   "id": "438d5f0f",
   "metadata": {},
   "source": [
    "7. Use NumPy syntax to check the shape of an array.\n",
    "\n",
    "arr = np.array([1, 2, 3, 4, 5])"
   ]
  },
  {
   "cell_type": "code",
   "execution_count": null,
   "id": "d718a828",
   "metadata": {},
   "outputs": [],
   "source": []
  },
  {
   "cell_type": "markdown",
   "id": "expanded-copying",
   "metadata": {},
   "source": [
    "8. Find the indexes where the values are even:\n",
    "\n",
    "arr = [16, 8, 3, 7, 15, 24]"
   ]
  },
  {
   "cell_type": "code",
   "execution_count": null,
   "id": "lyric-diagram",
   "metadata": {},
   "outputs": [],
   "source": []
  },
  {
   "cell_type": "markdown",
   "id": "electric-compatibility",
   "metadata": {},
   "source": [
    "9. Create a numpy array of 5 person names and sort the values alpbabetically"
   ]
  },
  {
   "cell_type": "code",
   "execution_count": null,
   "id": "valued-remark",
   "metadata": {},
   "outputs": [],
   "source": []
  },
  {
   "cell_type": "markdown",
   "id": "neural-internship",
   "metadata": {},
   "source": [
    "10. Use the correct NumPy method to return a sorted array.\n",
    "\n",
    "  arr = np.array([3, 2, 0, 1])"
   ]
  },
  {
   "cell_type": "code",
   "execution_count": null,
   "id": "bacterial-chase",
   "metadata": {},
   "outputs": [],
   "source": []
  }
 ],
 "metadata": {
  "kernelspec": {
   "display_name": "Python 3",
   "language": "python",
   "name": "python3"
  },
  "language_info": {
   "codemirror_mode": {
    "name": "ipython",
    "version": 3
   },
   "file_extension": ".py",
   "mimetype": "text/x-python",
   "name": "python",
   "nbconvert_exporter": "python",
   "pygments_lexer": "ipython3",
   "version": "3.8.8"
  }
 },
 "nbformat": 4,
 "nbformat_minor": 5
}
