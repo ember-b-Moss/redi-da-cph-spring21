{
 "cells": [
  {
   "cell_type": "markdown",
   "metadata": {
    "slideshow": {
     "slide_type": "notes"
    }
   },
   "source": [
    "**To open this notebook as a slideshow, run this command in the terminal:**\n",
    "```bash\n",
    "jupyter nbconvert Slides_week01.ipynb --to slides --post serve\n",
    "```\n"
   ]
  },
  {
   "cell_type": "markdown",
   "metadata": {
    "slideshow": {
     "slide_type": "slide"
    }
   },
   "source": [
    "# ReDi Data Analytics Spring\n",
    "\n",
    "**WEEK 1 - 6 April 2021**\n",
    "\n",
    "Teaching: Kristin Kaltenhauser, Petter Becker-Jostes"
   ]
  },
  {
   "cell_type": "markdown",
   "metadata": {
    "slideshow": {
     "slide_type": "slide"
    }
   },
   "source": [
    "## TODAY:\n",
    "1. Get to know each other - check\n",
    "2. Curriculum\n",
    "3. How we work in class, the semester project & homework\n",
    "4. Some words on class culture\n",
    "5. Introduction to git and GitHub\n",
    "6. Introduction to Jupyter Notebooks & your first data analytics notebook\n",
    "7. Intro to your first homework"
   ]
  },
  {
   "cell_type": "markdown",
   "metadata": {
    "slideshow": {
     "slide_type": "slide"
    }
   },
   "source": [
    "## Curriculum\n",
    "| Week | Topics | Available Teachers |\n",
    "|------|--------------------------------------------------------------------------------------|--------------------|\n",
    "| 1    | Introduction to the course, Introduction to git/github, Introduction to Jupyter Notebooks, Refreshing Python concepts      | Kristin, Petter    |\n",
    "| 2    | Introduction to Data Analytics with Python, Web Scraping, Accessing Open Source Data Sets and Kaggle | Kristin, Petter    |\n",
    "| 3    | Data Manipulation and Transformation using Numpy and Pandas    | Moncia, Mirka      |\n",
    "| 4    | Data Wrangling and Cleaning with Pandas       | Monica, Mirka      |\n",
    "| 5    | Hypothesis Testing and Introduction to Data Visualization | Mirka, Ben         |\n",
    "| 6    | Data Visualization II | Ben, Monica        |\n",
    "| 7    | Supervised Machine Learning | Kristin, Ben       |\n",
    "| 8    | Unsupervised Machine Learning   | Kristin, Monica    |\n",
    "| 9    | Communicating Data Science Findings, Semester Project Work I | Peter, Mirka       |\n",
    "| 10   | Semester Project Work II | all (?)            |\n",
    "| 11   | Semester Project Presentation | all                |"
   ]
  },
  {
   "cell_type": "markdown",
   "metadata": {
    "slideshow": {
     "slide_type": "slide"
    }
   },
   "source": [
    "## How we work\n",
    "* Weekly Lectures and exercises during class\n",
    "* Lecture notes & slides are provided in the class repository after class\n",
    "* we try to provide a list of additional resources each week, which is optional and not required to follow the next classes\n",
    "* home work each week (duration varies & depends on your level)\n",
    "* from week 9 (1 June 2021) you will work on your final semester project"
   ]
  },
  {
   "cell_type": "markdown",
   "metadata": {
    "slideshow": {
     "slide_type": "slide"
    }
   },
   "source": [
    "## Brief words on the semester project\n",
    "  * Find data source.\n",
    "  * Formulate a problem.\n",
    "  * Implement a solution and evaluation.\n",
    "  * Prepare a presentation. **Date: 15. June 2021**\n",
    "  * Start early to think about your problem and data set."
   ]
  },
  {
   "cell_type": "markdown",
   "metadata": {
    "slideshow": {
     "slide_type": "slide"
    }
   },
   "source": [
    "## Homework\n",
    "* You will hand in assignments to our homework tool www.eduflow.com every week\n",
    "* Deadline: 17:30 the following Tuesday (beginning of the next class)\n",
    "* Starting the second week, in addition to your regular homework, we ask you to peer review a randomly assigned homework from one of your classmates. This can be accessed in eduflow after you have submitted your own homework.\n",
    "* Be nice and thorough!\n",
    "* You have another week to complete the peer review (closes a week after it opened)\n",
    "* In week 3 you can access your first peer review together with the teacher's feedback"
   ]
  },
  {
   "cell_type": "markdown",
   "metadata": {
    "slideshow": {
     "slide_type": "slide"
    }
   },
   "source": [
    "## Class Culture\n",
    "\n",
    "* No tech shaming. Different people have different preferences."
   ]
  },
  {
   "cell_type": "markdown",
   "metadata": {
    "slideshow": {
     "slide_type": "subslide"
    }
   },
   "source": [
    "* ALL questions are welcome"
   ]
  },
  {
   "cell_type": "markdown",
   "metadata": {
    "slideshow": {
     "slide_type": "subslide"
    }
   },
   "source": [
    "* We are all learning together. Give feedback to the teachers too.\n",
    "\n",
    "<img src=\"img/programmers_google.jpg\"  width= \"300\"/>"
   ]
  },
  {
   "cell_type": "markdown",
   "metadata": {
    "slideshow": {
     "slide_type": "subslide"
    }
   },
   "source": [
    "* We don't touch your keyboards, but rather help you find the answer."
   ]
  },
  {
   "cell_type": "markdown",
   "metadata": {
    "slideshow": {
     "slide_type": "subslide"
    }
   },
   "source": [
    "* You are responsible for your own learning."
   ]
  },
  {
   "cell_type": "markdown",
   "metadata": {
    "slideshow": {
     "slide_type": "subslide"
    }
   },
   "source": [
    "* Data Analysis is hard for everyone. You will fail and have bad days. \n",
    "**This takes time. Take. The. Time.**\n",
    "\n",
    "<img src=\"img/darwin.jpg\"  width= \"300\"/>"
   ]
  }
 ],
 "metadata": {
  "celltoolbar": "Slideshow",
  "kernelspec": {
   "display_name": "Python 3",
   "language": "python",
   "name": "python3"
  },
  "language_info": {
   "codemirror_mode": {
    "name": "ipython",
    "version": 3
   },
   "file_extension": ".py",
   "mimetype": "text/x-python",
   "name": "python",
   "nbconvert_exporter": "python",
   "pygments_lexer": "ipython3",
   "version": "3.7.6"
  }
 },
 "nbformat": 4,
 "nbformat_minor": 4
}
