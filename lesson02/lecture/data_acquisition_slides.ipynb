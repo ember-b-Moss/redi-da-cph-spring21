{
 "cells": [
  {
   "cell_type": "markdown",
   "metadata": {
    "slideshow": {
     "slide_type": "slide"
    }
   },
   "source": [
    "# Data Acquisition\n",
    "\n",
    "## Week 2 Lecture\n",
    "\n",
    "by Kristin       13.4.2021"
   ]
  },
  {
   "cell_type": "markdown",
   "metadata": {
    "slideshow": {
     "slide_type": "slide"
    }
   },
   "source": [
    "## Where do I get my data from?\n",
    "\n",
    "1. Open Source Data\n",
    "2. Web APIs\n",
    "3. Web Scraping"
   ]
  },
  {
   "cell_type": "markdown",
   "metadata": {
    "slideshow": {
     "slide_type": "slide"
    }
   },
   "source": [
    "## 1 .Open Source Data (1/2)\n",
    "\n",
    "- data that is open for anyone to access, modify, reuse, share\n",
    "- made available by governments, independent organizattions, educational institutions, private companies\n",
    "- often provided as .csv  or .json files\n"
   ]
  },
  {
   "cell_type": "markdown",
   "metadata": {
    "slideshow": {
     "slide_type": "slide"
    }
   },
   "source": [
    "## 1. Open Source Data (2/2) \n",
    "\n",
    "* Public Data from Copenhagen Municipality: http://data.kk.dk\n",
    "* World Health Organization Open Data Repository: https://www.who.int/data/gho/\n",
    "* UNICEF open data: https://www.iatiregistry.org/publisher/unicef\n",
    "* European Union Open Data Portal: http://open-data.europa.eu/en/data/\n",
    "* A collection of various public datasets: https://github.com/caesar0301/awesome-public-datasets\n",
    "* **Another and more extensive collection of various public datasets and data science community: https://www.kaggle.com/datasets**\n",
    "* Project Gutenberg, a collection of public domain books, amongst others in plain text files: http://www.gutenberg.org"
   ]
  },
  {
   "cell_type": "markdown",
   "metadata": {
    "slideshow": {
     "slide_type": "slide"
    }
   },
   "source": [
    "## 2. Web APIs\n",
    "\n",
    "API = application programming interface\n",
    "* interface that allows two different systems to talk to each other without having to understand exactly what each other does\n",
    "* different types of APIs, the typical one for fetching data from the web: **REST** API (**Re**presentational **S**tate **T**ransfer)"
   ]
  },
  {
   "cell_type": "markdown",
   "metadata": {
    "slideshow": {
     "slide_type": "fragment"
    }
   },
   "source": [
    "Each client-APi interaction consists of two things:\n",
    "* **Request**: contains all relevant data regarding your API request call (base url, endpoint, method used, headers etc.)\n",
    "* **Response**: contains relevant data (resource) returned by the server, including data, status code etc."
   ]
  },
  {
   "cell_type": "markdown",
   "metadata": {
    "slideshow": {
     "slide_type": "slide"
    }
   },
   "source": [
    "### API terms\n",
    "* **Base URL**: same structure as urls you normally visit, but typically contains the word *api*. e.g. `https://api.twitter.com`\n",
    "* **Endpoint**: part of url that specifies what resource you want to fetch\n",
    "* **API reference**: documentation on which endpoints an API has and how to use them\n",
    "* **Resource methods**: GET, PUT, POST, DELETE\n",
    "* **Status Code**: part of the response from the server, tells you whether your request was successful\n",
    "* **HTTP Headers**: used to define parameters to govern requests and responses"
   ]
  },
  {
   "cell_type": "markdown",
   "metadata": {
    "slideshow": {
     "slide_type": "slide"
    }
   },
   "source": [
    "### Some awesome public APIs\n",
    "\n",
    "(links are to documentation, not the API itself)\n",
    "\n",
    "* A collection of free APIs: https://github.com/public-apis/public-apis\n",
    "* Spotify Web API: https://developer.spotify.com/documentation/web-api/ \n",
    "* Yummly API (recipe and food data): https://developer.yummly.com/documentation.html \n",
    "* New York Times Articles all the way to 1851: https://developers.nytimes.com/\n",
    "* Instagram API: https://www.instagram.com/developer/\n",
    "* Twitter API: https://developer.twitter.com/en/docs\n",
    "* Weather data worldwide: https://openweathermap.org/api\n",
    "* Johns Hopkins COVID-19 data: https://rapidapi.com/axisbits-axisbits-default/api/covid-19-statistics"
   ]
  },
  {
   "cell_type": "markdown",
   "metadata": {
    "slideshow": {
     "slide_type": "slide"
    }
   },
   "source": [
    "## 3. Web Scraping\n",
    "\n",
    "= automated data extraction from a website, in our case using Python\n",
    "\n",
    "1. Fetch data from a website\n",
    "2. Parse data and extract from it\n",
    "\n",
    "* With great power comes great responsibility: "
   ]
  },
  {
   "cell_type": "markdown",
   "metadata": {
    "slideshow": {
     "slide_type": "slide"
    }
   },
   "source": []
  },
  {
   "cell_type": "markdown",
   "metadata": {},
   "source": [
    "## Additional Resources\n",
    "* [Python and APIs](https://realpython.com/python-api/)\n",
    "* [What is a REST API](https://restfulapi.net/)\n",
    "* [Tips to avoid getting blocked when scraping](https://www.scrapingdog.com/blog/10-tips-to-avoid-getting-blocked-while-scraping)"
   ]
  }
 ],
 "metadata": {
  "celltoolbar": "Slideshow",
  "kernelspec": {
   "display_name": "Python 3",
   "language": "python",
   "name": "python3"
  },
  "language_info": {
   "codemirror_mode": {
    "name": "ipython",
    "version": 3
   },
   "file_extension": ".py",
   "mimetype": "text/x-python",
   "name": "python",
   "nbconvert_exporter": "python",
   "pygments_lexer": "ipython3",
   "version": "3.7.6"
  }
 },
 "nbformat": 4,
 "nbformat_minor": 5
}
