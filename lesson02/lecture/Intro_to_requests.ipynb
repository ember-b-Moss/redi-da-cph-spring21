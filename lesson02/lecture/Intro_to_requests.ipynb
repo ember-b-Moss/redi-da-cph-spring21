{
 "cells": [
  {
   "cell_type": "markdown",
   "metadata": {},
   "source": [
    "# The Python library `requests`\n",
    "* for your python code to communicate with a we API, all you need is the python library `requests`\n",
    "* [Quick start tutorial](https://docs.python-requests.org/en/master/user/quickstart/#quickstart)\n",
    "* In case the `requests` module is not installed on your system, install it with:\n",
    "```bash\n",
    "pip install requests\n",
    "\n",
    "however it should be part of the Anaconda distribution.\n",
    "\n",
    "In the following, we will make a request to the public API `https://api.thecatapi.com`"
   ]
  },
  {
   "cell_type": "code",
   "execution_count": 2,
   "metadata": {},
   "outputs": [
    {
     "data": {
      "text/plain": [
       "<Response [200]>"
      ]
     },
     "execution_count": 2,
     "metadata": {},
     "output_type": "execute_result"
    }
   ],
   "source": [
    "import requests\n",
    "\n",
    "requests.get(\"https://api.thecatapi.com/v1/breeds\")"
   ]
  },
  {
   "cell_type": "markdown",
   "metadata": {},
   "source": [
    "### HTTP Status Codes\n",
    "* part of the response from the server, tells you whether your request was successful and if not, why\n",
    "* Find a list of all HTTP status codes on [wikipedia](https://en.wikipedia.org/wiki/List_of_HTTP_status_codes)\n",
    "* successful request: 200\n"
   ]
  },
  {
   "cell_type": "code",
   "execution_count": null,
   "metadata": {},
   "outputs": [],
   "source": [
    "response.status_code"
   ]
  },
  {
   "cell_type": "markdown",
   "metadata": {},
   "source": [
    "### HTTP Headers\n",
    "* Headers let the client (your code) and the server pass additional information with ah HTTP request or response\n",
    "* are passed as key-value-pairs\n",
    "* If you want to send your request with a customized header, then you can just pass your header as a dictionary to the `headers` keyword argument of your request function call.\n",
    "* have a look at [Mozilla's extended list](https://developer.mozilla.org/en-US/docs/Web/HTTP/Headers) if you're curious about the specific use of headers\n",
    "* some APIs for example require you to make a profile and provide an API key, which allows you to access their resources"
   ]
  },
  {
   "cell_type": "code",
   "execution_count": null,
   "metadata": {},
   "outputs": [],
   "source": [
    "response.headers\n",
    "#response.request.headers"
   ]
  },
  {
   "cell_type": "markdown",
   "metadata": {},
   "source": [
    "### Response Content\n",
    "\n",
    "#### 1. As Text\n",
    "`requests` will automatically decode content from the server. Most unicode charsets are seamlessly decoded.\n",
    "\n",
    "When you make a request, `requests` makes educated guesses about the encoding of the response based on the HTTP headers. The text encoding guessed by `requests` is used when you access `r.text`.\n",
    "Read more about character encoding [here](https://en.wikipedia.org/wiki/Character_encoding)."
   ]
  },
  {
   "cell_type": "code",
   "execution_count": null,
   "metadata": {},
   "outputs": [],
   "source": [
    "print(response.encoding)\n",
    "print(response.text)"
   ]
  },
  {
   "cell_type": "markdown",
   "metadata": {},
   "source": [
    "#### 2. JSON Response Content\n",
    "`requests` has a builtin JSON decoder, which returns the JSON response decoded into a dictionary."
   ]
  },
  {
   "cell_type": "code",
   "execution_count": null,
   "metadata": {},
   "outputs": [],
   "source": [
    "my_json = response.json()\n",
    "my_json\n",
    "#my_json[0]['dog_friendly']"
   ]
  },
  {
   "cell_type": "markdown",
   "metadata": {},
   "source": [
    "### Writing a Response to a file"
   ]
  },
  {
   "cell_type": "code",
   "execution_count": null,
   "metadata": {},
   "outputs": [],
   "source": [
    "url = \"https://api.thecatapi.com/v1/images/search\"\n",
    "resp = requests.get(url).json()\n",
    "img_url = resp[0][\"url\"]\n",
    "\n",
    "filename = \"random_kitty.jpg\"\n",
    "\n",
    "with open(filename, 'wb') as file:\n",
    "    file.write(requests.get(img_url).content)"
   ]
  },
  {
   "cell_type": "markdown",
   "metadata": {},
   "source": [
    "### Query Parameters \n",
    "Sometimes when you call an API, you get a ton of data that you don’t need or want. For example, when calling TheCatAPI’s `/breeds` endpoint, you get a lot of information about a given breed. But in some cases, you might want to extract only certain information about a given breed. That’s where query parameters come in! It typically comes after the base URL and endpoint. Always check out the APIs documentation to learn how to use queries.\n",
    "\n",
    "In the API world, query parameters are used as filters you can send with your API request to further narrow down the responses"
   ]
  },
  {
   "cell_type": "code",
   "execution_count": null,
   "metadata": {},
   "outputs": [],
   "source": [
    "response = requests.get(\"https://api.thecatapi.com/v1/breeds/search?name=javanese\").json()\n",
    "response"
   ]
  }
 ],
 "metadata": {
  "kernelspec": {
   "display_name": "Python 3",
   "language": "python",
   "name": "python3"
  },
  "language_info": {
   "codemirror_mode": {
    "name": "ipython",
    "version": 3
   },
   "file_extension": ".py",
   "mimetype": "text/x-python",
   "name": "python",
   "nbconvert_exporter": "python",
   "pygments_lexer": "ipython3",
   "version": "3.7.6"
  }
 },
 "nbformat": 4,
 "nbformat_minor": 4
}
