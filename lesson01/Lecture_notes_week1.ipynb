{
 "cells": [
  {
   "cell_type": "markdown",
   "metadata": {},
   "source": [
    "# 1. Introduction to Git and GitHub\n",
    "\n",
    "\n",
    "--------\n",
    "\n",
    "## Working with the Course Material\n",
    "Best fork this repository on Github. By forking the repo you can receive updates from the original repo as they get committed throughout the course. Be aware though, that if you are working in the notebooks (even just running the code in the examples) you are likely to get merge conflicts. If this is undesirable to you, you might consider having 2 versions of the repo (one for working in and copying files into as you need them) and one for pulling from they teaching materials as we make them available.\n",
    "\n",
    "To fetch the latest changes before/after each lecture into your forked repo, see  \n",
    " \n",
    "https://help.github.com/articles/configuring-a-remote-for-a-fork/ and \n",
    "\n",
    "https://help.github.com/articles/syncing-a-fork/.\n",
    "\n",
    "```bash\n",
    "git clone https://github.com/benesom/redi-da-cph-spring21.git\n",
    "```"
   ]
  },
  {
   "cell_type": "markdown",
   "metadata": {},
   "source": [
    "#  2. Working with Jupyter Notebooks\n",
    "(This tutorial is based on https://www.dataquest.io/blog/jupyter-notebook-tutorial/)\n",
    "\n",
    "## What are Jupyter Notebooks\n",
    "- documents that contain both code and rich text elements, such as figures, links, equations\n",
    "- as a client-server application, the Jupyter Notebook App allows you to edit and run your notebooks via a web browser\n",
    "- file with the extension .ipynb\n",
    "\n",
    "You can start the notebook server via:\n",
    "\n",
    "```bash\n",
    "$ cd path/to/notebooks/\n",
    "$ jupyter notebook\n",
    "```\n",
    "\n",
    "That should open your browser on http://localhost:8888 (even though a notebook opens in your browser, it’s being hosted and run on our local machine, localhost:8888 is not a web address)\n",
    "\n",
    "**Note** The `jupyter notebook` command is context sensitive. That is, it is always started in the scope of the current directory. When you have your notebooks stored in another directory than the one in which you execute `jupyter notebook`, then you have change directories before.\n",
    "\n",
    "---"
   ]
  },
  {
   "cell_type": "markdown",
   "metadata": {},
   "source": [
    "Two important components of `jupyter notebooks`:\n",
    "\n",
    "### 1. Cell\n",
    "**... is a container for text to be displayed in the notebook or code to be executed by the notebook’s kernel**\n",
    "\n",
    "The `jupyter notebook` is organized as a list of cells. There are two central kinds of cells, they are called **Code** and **Markdown**. The cell type can be set [using a keyboard shortcut](http://sowingseasons.com/blog/jupyter-keyboard-shortcuts.html), or using the menu above.\n",
    "\n",
    "The **Code** cells simply contain the Python code, no big deal.\n",
    "\n",
    "The **Markdown** cells contain text (explanations, sections, etc). The text is written in Markdown. Markdown allows you to write using an easy-to-read, easy-to-write plain text format, then convert it to HTML. You can read about it here:\n",
    "\n",
    "http://daringfireball.net/projects/markdown/\n",
    "\n",
    "\n",
    "### 2. Kernel\n",
    "**... is a computational engine that executes the code in a notebook document**\n",
    "\n",
    "Behind every notebook runs a kernel. When you run a code cell, that code is executed within the kernel. Any output is returned back to the cell to be displayed. The kernel’s state persists over time and between cells — it pertains to the document as a whole and not individual cells.\n",
    "For example, if you import libraries or declare variables in one cell, they will be available in another.\n",
    "Don't worry if you don't quite understand that yet. It will become clearer once you start using a notebook.\n",
    "\n",
    "---"
   ]
  },
  {
   "cell_type": "markdown",
   "metadata": {},
   "source": [
    "## Keyboard Shortcuts\n",
    "\n",
    "In a `jupyter notebook`, cells are always marked either green or blue which denotes its current mode:\n",
    "\n",
    "- Green outline: cell is in \"edit mode\"\n",
    "- Blue outline: cell is in \"command mode\"\n",
    "\n",
    "Depending on which mode your cell is in, different keyboard shortcuts can be used which can faciliate a speedy call-based workflow. There is a small keyboard icon on top of this notebook, which lists all keyboard shortcuts. You don't need to memorize them immediately, but the list should give you an idea of what is possible. You can access most functionalities over the toolbar at the top of the notebook as well.\n",
    "\n",
    "Here are some keyboard shortcuts to focus on first, which will make your life so much easier during the course:\n",
    "* Toggle between edit and command mode with `Esc` and `Enter`\n",
    "* Command mode:\n",
    "    * Scroll up and down your cells with your `Up` and `Down` keys.\n",
    "    * Press `A` or `B` to insert a new cell above or below the active cell.\n",
    "    * `D + D` (D twice) will delete the active cell.\n",
    "    * `Z` will undo cell deletion.\n",
    "    * Hold `Shift` and press `Up` or `Down` to select multiple cells at once. With multiple cells selected, `Shift + M` will merge your selection.\n",
    "    * `M` will transform the active cell to a Markdown cell.\n",
    "    * `Y` will set the active cell to a code cell.\n",
    "* Edit mode: \n",
    "    * `Ctrl + Enter` executes the cell\n",
    "    * `Ctrl + Shift` executes the cell and selects the next cell\n",
    "    * `Ctrl + Shift + -` will split the active cell at the cursor\n",
    "    * Start typing a function or class name, if you have forgotten how the function was called, press `Tab`, which will give you some suggestions"
   ]
  },
  {
   "cell_type": "markdown",
   "metadata": {},
   "source": [
    "# 3. Additional Resources\n",
    "- [How to run Python Scripts (Scripts vs. Modules)](https://realpython.com/run-python-scripts/)\n",
    "- [Introduction to Python environments](https://towardsdatascience.com/getting-started-with-python-environments-using-conda-32e9f2779307)\n",
    "- [Jupyter Notebook Tutorial](https://www.dataquest.io/blog/jupyter-notebook-tutorial/)\n",
    "- [The Python Data Science Handbook, free online resource](https://github.com/jakevdp/PythonDataScienceHandbook)\n"
   ]
  }
 ],
 "metadata": {
  "kernelspec": {
   "display_name": "Python 3",
   "language": "python",
   "name": "python3"
  },
  "language_info": {
   "codemirror_mode": {
    "name": "ipython",
    "version": 3
   },
   "file_extension": ".py",
   "mimetype": "text/x-python",
   "name": "python",
   "nbconvert_exporter": "python",
   "pygments_lexer": "ipython3",
   "version": "3.7.6"
  }
 },
 "nbformat": 4,
 "nbformat_minor": 5
}
